{
 "cells": [
  {
   "cell_type": "markdown",
   "metadata": {},
   "source": [
    "## Data Analysis\n",
    "\n"
   ]
  },
  {
   "cell_type": "markdown",
   "metadata": {},
   "source": [
    "- Get necessary stuff"
   ]
  },
  {
   "cell_type": "code",
   "execution_count": 7,
   "metadata": {
    "collapsed": true
   },
   "outputs": [],
   "source": [
    "import pandas as pd\n",
    "import numpy as np\n",
    "import os \n",
    "companies = ['zynga','supercell','king']\n",
    "mainBranches = pd.read_csv(\"Assignment_1_Data/main_branches.csv\",sep=';')"
   ]
  },
  {
   "cell_type": "code",
   "execution_count": 118,
   "metadata": {
    "collapsed": false
   },
   "outputs": [
    {
     "data": {
      "text/html": [
       "<div>\n",
       "<table border=\"1\" class=\"dataframe\">\n",
       "  <thead>\n",
       "    <tr style=\"text-align: right;\">\n",
       "      <th></th>\n",
       "      <th>branch_id</th>\n",
       "      <th>company</th>\n",
       "      <th>property</th>\n",
       "      <th>subject</th>\n",
       "      <th>subject_id</th>\n",
       "    </tr>\n",
       "  </thead>\n",
       "  <tbody>\n",
       "    <tr>\n",
       "      <th>10</th>\n",
       "      <td>1069691.0</td>\n",
       "      <td>Supercell</td>\n",
       "      <td>Boom Beach</td>\n",
       "      <td>Boom Beach</td>\n",
       "      <td>5073984.0</td>\n",
       "    </tr>\n",
       "    <tr>\n",
       "      <th>14</th>\n",
       "      <td>1013836.0</td>\n",
       "      <td>Zynga</td>\n",
       "      <td>Words With Friends</td>\n",
       "      <td>Words With Friends Pro</td>\n",
       "      <td>5338124.0</td>\n",
       "    </tr>\n",
       "    <tr>\n",
       "      <th>18</th>\n",
       "      <td>1013836.0</td>\n",
       "      <td>Zynga</td>\n",
       "      <td>Words With Friends</td>\n",
       "      <td>Words With Friends HD</td>\n",
       "      <td>5277124.0</td>\n",
       "    </tr>\n",
       "    <tr>\n",
       "      <th>19</th>\n",
       "      <td>1040093.0</td>\n",
       "      <td>Supercell</td>\n",
       "      <td>Clash Royale</td>\n",
       "      <td>Clash Royale</td>\n",
       "      <td>5450856.0</td>\n",
       "    </tr>\n",
       "    <tr>\n",
       "      <th>20</th>\n",
       "      <td>1069691.0</td>\n",
       "      <td>Supercell</td>\n",
       "      <td>Boom Beach</td>\n",
       "      <td>Boom Beach</td>\n",
       "      <td>5063087.0</td>\n",
       "    </tr>\n",
       "  </tbody>\n",
       "</table>\n",
       "</div>"
      ],
      "text/plain": [
       "    branch_id    company            property                 subject  \\\n",
       "10  1069691.0  Supercell          Boom Beach              Boom Beach   \n",
       "14  1013836.0      Zynga  Words With Friends  Words With Friends Pro   \n",
       "18  1013836.0      Zynga  Words With Friends   Words With Friends HD   \n",
       "19  1040093.0  Supercell        Clash Royale            Clash Royale   \n",
       "20  1069691.0  Supercell          Boom Beach              Boom Beach   \n",
       "\n",
       "    subject_id  \n",
       "10   5073984.0  \n",
       "14   5338124.0  \n",
       "18   5277124.0  \n",
       "19   5450856.0  \n",
       "20   5063087.0  "
      ]
     },
     "execution_count": 118,
     "metadata": {},
     "output_type": "execute_result"
    }
   ],
   "source": [
    "companies = ['Zynga','Supercell','King']\n",
    "mainBranches = pd.read_csv(\"Assignment_1_Data/main_branches.csv\",sep=';')\n",
    "branches = mainBranches[mainBranches.company_name.isin(companies)]\n",
    "#Collect all the subject Ids related to our companies\n",
    "subjects = pd.read_csv(\"Assignment_1_Data/subjects_tree_data.csv\",sep=';')\n",
    "subjects.head()\n",
    "def findValues(X):\n",
    "    v = np.intersect1d(X[4].split(','),branches['branch_id'].values)\n",
    "    if len(v) > 0:\n",
    "        v = int(v[0])\n",
    "        company = branches[branches.branch_id == v]['company_name'].values[0]\n",
    "        prop = branches[branches.branch_id == v]['property'].values[0]\n",
    "        return pd.Series({'subject_id': X[3],'branch_id':v,'subject':X[0],'property': prop,'company':company})\n",
    "    else:\n",
    "        return pd.Series()\n",
    "subjects = subjects.apply(findValues,axis=1).dropna()\n",
    "subjects.head()"
   ]
  },
  {
   "cell_type": "markdown",
   "metadata": {},
   "source": [
    "#### First Phase\n",
    "\n",
    "- a) What is the average monthly user growth rates of Supercell, King and Zynga?\n",
    "- b) What is the net reach of Supercell, King and Zynga in the sample for each of the 3 months?\n",
    "- c) What is the total time spent per month per user for Supercell, King and Zynga for July?\n",
    "- d) Which of Supercell, King and Zynga had the largest average session duration in June?\n",
    "    - All of these require session data\n",
    "- e) What is the gender distribution of Supercell vs. King users?\n",
    "     - This can be looked up from gender data\n"
   ]
  },
  {
   "cell_type": "code",
   "execution_count": 126,
   "metadata": {
    "collapsed": false
   },
   "outputs": [
    {
     "data": {
      "text/html": [
       "<div>\n",
       "<table border=\"1\" class=\"dataframe\">\n",
       "  <thead>\n",
       "    <tr style=\"text-align: right;\">\n",
       "      <th></th>\n",
       "      <th>subject_id</th>\n",
       "      <th>start_timestamp</th>\n",
       "      <th>end_timestamp</th>\n",
       "      <th>interaction_type</th>\n",
       "      <th>user_id</th>\n",
       "      <th>device_id</th>\n",
       "      <th>os</th>\n",
       "    </tr>\n",
       "  </thead>\n",
       "  <tbody>\n",
       "    <tr>\n",
       "      <th>137</th>\n",
       "      <td>5144205</td>\n",
       "      <td>2016-05-06 13:33:38</td>\n",
       "      <td>2016-05-06 13:51:48</td>\n",
       "      <td>app</td>\n",
       "      <td>4530</td>\n",
       "      <td>10124</td>\n",
       "      <td>ios</td>\n",
       "    </tr>\n",
       "    <tr>\n",
       "      <th>138</th>\n",
       "      <td>5144205</td>\n",
       "      <td>2016-07-01 18:12:55</td>\n",
       "      <td>2016-07-01 18:23:28</td>\n",
       "      <td>app</td>\n",
       "      <td>4530</td>\n",
       "      <td>10124</td>\n",
       "      <td>ios</td>\n",
       "    </tr>\n",
       "    <tr>\n",
       "      <th>139</th>\n",
       "      <td>5144205</td>\n",
       "      <td>2016-06-05 23:53:40</td>\n",
       "      <td>2016-06-06 00:18:49</td>\n",
       "      <td>app</td>\n",
       "      <td>4530</td>\n",
       "      <td>10124</td>\n",
       "      <td>ios</td>\n",
       "    </tr>\n",
       "    <tr>\n",
       "      <th>140</th>\n",
       "      <td>5144205</td>\n",
       "      <td>2016-07-01 11:45:36</td>\n",
       "      <td>2016-07-01 11:56:09</td>\n",
       "      <td>app</td>\n",
       "      <td>4530</td>\n",
       "      <td>10124</td>\n",
       "      <td>ios</td>\n",
       "    </tr>\n",
       "    <tr>\n",
       "      <th>141</th>\n",
       "      <td>5144205</td>\n",
       "      <td>2016-06-02 14:57:03</td>\n",
       "      <td>2016-06-02 15:09:05</td>\n",
       "      <td>app</td>\n",
       "      <td>4530</td>\n",
       "      <td>10124</td>\n",
       "      <td>ios</td>\n",
       "    </tr>\n",
       "  </tbody>\n",
       "</table>\n",
       "</div>"
      ],
      "text/plain": [
       "     subject_id      start_timestamp        end_timestamp interaction_type  \\\n",
       "137     5144205  2016-05-06 13:33:38  2016-05-06 13:51:48              app   \n",
       "138     5144205  2016-07-01 18:12:55  2016-07-01 18:23:28              app   \n",
       "139     5144205  2016-06-05 23:53:40  2016-06-06 00:18:49              app   \n",
       "140     5144205  2016-07-01 11:45:36  2016-07-01 11:56:09              app   \n",
       "141     5144205  2016-06-02 14:57:03  2016-06-02 15:09:05              app   \n",
       "\n",
       "     user_id  device_id   os  \n",
       "137     4530      10124  ios  \n",
       "138     4530      10124  ios  \n",
       "139     4530      10124  ios  \n",
       "140     4530      10124  ios  \n",
       "141     4530      10124  ios  "
      ]
     },
     "execution_count": 126,
     "metadata": {},
     "output_type": "execute_result"
    }
   ],
   "source": [
    "sessiondataDump = pd.read_csv(\"Assignment_1_Data/sessions_data.csv\",sep=';')\n",
    "sessionData = sessiondataDump[sessiondataDump.subject_id.isin(subjects.subject_id)]\n",
    "del sessiondataDump\n",
    "sessionData.head()\n",
    "sessionData.head()\n",
    "sessionData['start_timestamp'] = pd.to_datetime(sessionData['start_timestamp'])\n",
    "sessionData['end_timestamp'] = pd.to_datetime(sessionData['end_timestamp'])"
   ]
  },
  {
   "cell_type": "code",
   "execution_count": 138,
   "metadata": {
    "collapsed": false
   },
   "outputs": [
    {
     "data": {
      "text/plain": [
       "dtype('<M8[ns]')"
      ]
     },
     "execution_count": 138,
     "metadata": {},
     "output_type": "execute_result"
    }
   ],
   "source": [
    "sessionData['month'] = sessionDat"
   ]
  }
 ],
 "metadata": {
  "kernelspec": {
   "display_name": "Python 2",
   "language": "python",
   "name": "python2"
  },
  "language_info": {
   "codemirror_mode": {
    "name": "ipython",
    "version": 2
   },
   "file_extension": ".py",
   "mimetype": "text/x-python",
   "name": "python",
   "nbconvert_exporter": "python",
   "pygments_lexer": "ipython2",
   "version": "2.7.12"
  }
 },
 "nbformat": 4,
 "nbformat_minor": 1
}
